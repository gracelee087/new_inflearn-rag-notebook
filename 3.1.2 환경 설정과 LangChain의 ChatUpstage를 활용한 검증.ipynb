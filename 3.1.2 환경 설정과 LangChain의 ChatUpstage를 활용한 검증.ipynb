{
 "cells": [
  {
   "cell_type": "markdown",
   "metadata": {},
   "source": [
    "# 1. 패키지 설치"
   ]
  },
  {
   "cell_type": "code",
   "execution_count": 2,
   "metadata": {},
   "outputs": [
    {
     "name": "stdout",
     "output_type": "stream",
     "text": [
      "Note: you may need to restart the kernel to use updated packages.\n"
     ]
    }
   ],
   "source": [
    "%pip install -q python-dotenv langchain-upstage"
   ]
  },
  {
   "cell_type": "markdown",
   "metadata": {},
   "source": [
    "# 2. 환경변수 불러오기\n",
    "\n",
    "- `.env` 파일에 `OPENAI_API_KEY` 등록"
   ]
  },
  {
   "cell_type": "code",
   "execution_count": 3,
   "metadata": {},
   "outputs": [
    {
     "data": {
      "text/plain": [
       "True"
      ]
     },
     "execution_count": 3,
     "metadata": {},
     "output_type": "execute_result"
    }
   ],
   "source": [
    "from dotenv import load_dotenv\n",
    "\n",
    "load_dotenv()"
   ]
  },
  {
   "cell_type": "markdown",
   "metadata": {},
   "source": [
    "# 3. LLM 답변 생성\n",
    "\n",
    "- Upstage Console에서 발급받은 API Key를 `UPSTAGE_API_KEY`라고 저장하면 별도의 설정 없이 `ChatUpstage`를 사용할 수 있음"
   ]
  },
  {
   "cell_type": "code",
   "execution_count": 4,
   "metadata": {},
   "outputs": [],
   "source": [
    "from langchain_upstage import ChatUpstage\n",
    "\n",
    "llm = ChatUpstage()"
   ]
  },
  {
   "cell_type": "code",
   "execution_count": 5,
   "metadata": {},
   "outputs": [],
   "source": [
    "ai_message = llm.invoke(\"데이터과학 부트캠프는 뭘하는곳인가?\")"
   ]
  },
  {
   "cell_type": "code",
   "execution_count": 6,
   "metadata": {},
   "outputs": [
    {
     "data": {
      "text/plain": [
       "'데이터 과학 부트캠프는 데이터 과학 분야에서 경력을 쌓고자 하는 사람들을 위한 집중적이고 짧은 기간의 교육 프로그램입니다. 이러한 부트캠프는 일반적으로 몇 주에서 몇 개월 동안 진행되며, 참가자들에게 데이터 과학에 필요한 기술과 지식을 빠르게 습득할 수 있는 기회를 제공합니다.\\n\\n부트캠프에서 다루는 주요 내용은 다음과 같습니다:\\n\\n1. 프로그래밍: 주로 Python이나 R과 같은 언어를 사용하여 데이터 처리 및 분석을 위한 기초적인 프로그래밍 기술을 배웁니다.\\n\\n2. 수학 및 통계: 데이터 분석에 필요한 기초적인 수학 및 통계 지식을 학습합니다. 이는 데이터 해석과 모델링에 필수적입니다.\\n\\n3. 데이터 분석: 데이터를 수집, 정제, 분석하는 방법을 배우며, 이를 통해 의미 있는 정보를 추출하는 기술을 습득합니다.\\n\\n4. 머신러닝: 기본적인 머신러닝 알고리즘과 그 적용 방법을 학습하여 예측 모델을 구축하는 방법을 배웁니다.\\n\\n5. 데이터 시각화: 데이터의 시각적 표현을 통해 결과를 효과적으로 전달하는 방법을 배웁니다.\\n\\n6. 프로젝트 기반 학습: 실제 데이터를 사용하여 프로젝트를 진행하며, 이론적인 지식을 실제 상황에 적용하는 경험을 쌓습니다.\\n\\n부트캠프는 일반적으로 이론 수업과 실습을 결합하여 진행되며, 참가자들은 짧은 시간 내에 데이터 과학 분야에서 필요한 실무적인 기술과 경험을 얻을 수 있습니다. 이러한 프로그램은 교육 기관, 기업, 또는 독립적인 교육 업체에서 제공할 수 있으며, 온라인과 오프라인 형태로 운영될 수 있습니다.'"
      ]
     },
     "execution_count": 6,
     "metadata": {},
     "output_type": "execute_result"
    }
   ],
   "source": [
    "ai_message.content"
   ]
  },
  {
   "cell_type": "code",
   "execution_count": null,
   "metadata": {},
   "outputs": [],
   "source": []
  },
  {
   "cell_type": "code",
   "execution_count": null,
   "metadata": {},
   "outputs": [],
   "source": []
  }
 ],
 "metadata": {
  "kernelspec": {
   "display_name": ".venv",
   "language": "python",
   "name": "python3"
  },
  "language_info": {
   "codemirror_mode": {
    "name": "ipython",
    "version": 3
   },
   "file_extension": ".py",
   "mimetype": "text/x-python",
   "name": "python",
   "nbconvert_exporter": "python",
   "pygments_lexer": "ipython3",
   "version": "3.11.3"
  }
 },
 "nbformat": 4,
 "nbformat_minor": 2
}
